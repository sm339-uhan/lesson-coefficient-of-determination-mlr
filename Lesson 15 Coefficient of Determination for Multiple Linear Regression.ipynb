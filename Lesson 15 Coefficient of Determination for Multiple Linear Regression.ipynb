{
 "cells": [
  {
   "cell_type": "markdown",
   "id": "5fd285b2-6238-44d2-8c7c-87cd8fac6250",
   "metadata": {},
   "source": [
    "**SM339 &#x25aa; Applied Statistics &#x25aa; Spring 2023 &#x25aa; Uhan**"
   ]
  },
  {
   "cell_type": "markdown",
   "id": "d933c830-3439-43d0-8ca2-a58a1beeb13f",
   "metadata": {},
   "source": [
    "# Lesson 15. Coefficient of Determination for Multiple Linear Regression"
   ]
  },
  {
   "cell_type": "markdown",
   "id": "34ba9e47-30dc-45e1-9a30-da3c044384f1",
   "metadata": {},
   "source": [
    "## The coefficient of (multiple) determination $R^2$"
   ]
  },
  {
   "cell_type": "markdown",
   "id": "3679d135-ebff-4a56-a90e-9d501b500a23",
   "metadata": {},
   "source": [
    "- Question: __How much of the variation in $Y$ is explained by the model?__\n",
    "\n",
    "- Formula:\n",
    "\n",
    "$$ R^2 = \\frac{\\text{variability explained by model}}{\\text{total variability in $Y$}} = \\frac{\\mathit{SSModel}}{\\mathit{SSTotal}} = 1 - \\frac{\\mathit{SSE}}{\\mathit{SSTotal}} $$\n",
    "\n",
    "- Interpretation:\n",
    "\n",
    "    - Suppose we fit a multiple linear regression model and the $R^2$ value is 0.75\n",
    "    \n",
    "    - Then we would say\n",
    "        > The linear regression model with explanatory variables __[list of explanatory variables]__ explains 75% of the variability in the response variable __[response variable]__."
   ]
  },
  {
   "cell_type": "markdown",
   "id": "2a032b93-79c1-4681-a96b-c90a4fe699a4",
   "metadata": {},
   "source": [
    "- Things to note:\n",
    "\n",
    "    - We call $R^2$ the coefficient of _multiple_ determination because we now have multiple predictors\n",
    "    \n",
    "    - For simple linear regression, we use $r^2$ (with lowercase $r$) to denote the coefficient of determination because it was the sample correlation $r$ between $X$ and $Y$ squared\n",
    "    \n",
    "    - That interpretation does not translate directly to the case with multiple predictors, since each predictor has its own correlation with the response variable\n",
    "    \n",
    "    - However, in the multiple linear regression setting, if we calculate the correlation between $y$ (observed) and $\\hat{y}$ (fitted) and then square that correlation, we would obtain $R^2$"
   ]
  },
  {
   "cell_type": "markdown",
   "id": "e128dd54-a30e-422c-a88d-514a4782b1d1",
   "metadata": {},
   "source": [
    "### Example 1"
   ]
  },
  {
   "cell_type": "markdown",
   "id": "b62d15e8-7c7d-4d07-b556-22bd167a7ba8",
   "metadata": {},
   "source": [
    "Continuing with the `RailsTrails` data and model from the previous lesson..."
   ]
  },
  {
   "cell_type": "code",
   "execution_count": 1,
   "id": "de569214-faf9-4ec7-ab75-8f7d74551659",
   "metadata": {},
   "outputs": [],
   "source": [
    "library(Stat2Data)\n",
    "data(RailsTrails)"
   ]
  },
  {
   "cell_type": "markdown",
   "id": "4dec1f78-0001-45e4-9f0c-598b00a5c915",
   "metadata": {},
   "source": [
    "#### a.\n",
    "How much of the variability in $\\mathit{Price2014}$ is explained by the _simple_ linear regression model with _only_ $\\mathit{SquareFeet}$ as the predictor?"
   ]
  },
  {
   "cell_type": "code",
   "execution_count": null,
   "id": "e0552022-2ef6-4528-ad9c-ec79032a1d95",
   "metadata": {},
   "outputs": [],
   "source": []
  },
  {
   "cell_type": "code",
   "execution_count": 2,
   "id": "2029dd63-a621-4b03-8048-9b8c6011d9d3",
   "metadata": {
    "tags": [
     "solution"
    ]
   },
   "outputs": [
    {
     "data": {
      "text/plain": [
       "\n",
       "Call:\n",
       "lm(formula = Price2014 ~ SquareFeet, data = RailsTrails)\n",
       "\n",
       "Residuals:\n",
       "    Min      1Q  Median      3Q     Max \n",
       "-172.13  -38.20   -2.05   28.33  330.20 \n",
       "\n",
       "Coefficients:\n",
       "            Estimate Std. Error t value Pr(>|t|)    \n",
       "(Intercept)    43.77      19.53   2.241   0.0272 *  \n",
       "SquareFeet    159.17      11.75  13.544   <2e-16 ***\n",
       "---\n",
       "Signif. codes:  0 ‘***’ 0.001 ‘**’ 0.01 ‘*’ 0.05 ‘.’ 0.1 ‘ ’ 1\n",
       "\n",
       "Residual standard error: 66.61 on 102 degrees of freedom\n",
       "Multiple R-squared:  0.6427,\tAdjusted R-squared:  0.6392 \n",
       "F-statistic: 183.5 on 1 and 102 DF,  p-value: < 2.2e-16\n"
      ]
     },
     "metadata": {},
     "output_type": "display_data"
    }
   ],
   "source": [
    "# Solution\n",
    "fit <- lm(Price2014 ~ SquareFeet, data = RailsTrails)\n",
    "summary(fit)"
   ]
  },
  {
   "cell_type": "markdown",
   "id": "73f5955f-48be-46f5-a811-9f6c6c745e5f",
   "metadata": {},
   "source": [
    "*Write your notes here. Double-click to edit.*"
   ]
  },
  {
   "cell_type": "markdown",
   "id": "ea37e1aa-240b-426c-92ee-39853908d8ae",
   "metadata": {
    "tags": [
     "solution"
    ]
   },
   "source": [
    "*Solution.* $R^2 = 0.6427$."
   ]
  },
  {
   "cell_type": "markdown",
   "id": "a18d9215-40c4-4a77-81a8-736a47bbb0d5",
   "metadata": {},
   "source": [
    "#### b.\n",
    "How much of the variability in $\\mathit{Price2014}$ is explained by the _simple_ linear regression model with _only_ $\\mathit{Distance}$ as the predictor?"
   ]
  },
  {
   "cell_type": "code",
   "execution_count": null,
   "id": "e7ca9c23-ac53-4295-8994-3a640af36d55",
   "metadata": {},
   "outputs": [],
   "source": []
  },
  {
   "cell_type": "code",
   "execution_count": 3,
   "id": "3172e626-2e30-4135-922a-75d52eca7250",
   "metadata": {
    "tags": [
     "solution"
    ]
   },
   "outputs": [
    {
     "data": {
      "text/plain": [
       "\n",
       "Call:\n",
       "lm(formula = Price2014 ~ Distance, data = RailsTrails)\n",
       "\n",
       "Residuals:\n",
       "    Min      1Q  Median      3Q     Max \n",
       "-202.74  -56.27  -15.91   31.53  551.45 \n",
       "\n",
       "Coefficients:\n",
       "            Estimate Std. Error t value Pr(>|t|)    \n",
       "(Intercept)   352.16      15.18  23.192  < 2e-16 ***\n",
       "Distance      -53.01      10.44  -5.079 1.72e-06 ***\n",
       "---\n",
       "Signif. codes:  0 ‘***’ 0.001 ‘**’ 0.01 ‘*’ 0.05 ‘.’ 0.1 ‘ ’ 1\n",
       "\n",
       "Residual standard error: 99.55 on 102 degrees of freedom\n",
       "Multiple R-squared:  0.2018,\tAdjusted R-squared:  0.194 \n",
       "F-statistic: 25.79 on 1 and 102 DF,  p-value: 1.72e-06\n"
      ]
     },
     "metadata": {},
     "output_type": "display_data"
    }
   ],
   "source": [
    "# Solution\n",
    "fit <- lm(Price2014 ~ Distance, data = RailsTrails)\n",
    "summary(fit)"
   ]
  },
  {
   "cell_type": "markdown",
   "id": "efec401c-a9ff-4f42-a029-b454331ae9dd",
   "metadata": {},
   "source": [
    "*Write your notes here. Double-click to edit.*"
   ]
  },
  {
   "cell_type": "markdown",
   "id": "9c4bcb2a-6451-4a8c-9008-510bb3648901",
   "metadata": {
    "tags": [
     "solution"
    ]
   },
   "source": [
    "*Solution.* $R^2 = 0.2018$."
   ]
  },
  {
   "cell_type": "markdown",
   "id": "61e9e999-91ba-4eaa-b9ae-2ed14a0b6430",
   "metadata": {},
   "source": [
    "#### c.\n",
    "How much of the variability in  $\\mathit{Price2014}$ is explained by the _multiple_ linear regression model with both $\\mathit{SquareFeet}$ and $\\mathit{Distance}$ as predictors?"
   ]
  },
  {
   "cell_type": "code",
   "execution_count": null,
   "id": "6635ddc5-399d-47e7-9fff-8e4364e63bc7",
   "metadata": {},
   "outputs": [],
   "source": []
  },
  {
   "cell_type": "code",
   "execution_count": 4,
   "id": "acd4e82d-8d8a-4ec2-aa28-349d98b68172",
   "metadata": {
    "tags": [
     "solution"
    ]
   },
   "outputs": [
    {
     "data": {
      "text/plain": [
       "\n",
       "Call:\n",
       "lm(formula = Price2014 ~ SquareFeet + Distance, data = RailsTrails)\n",
       "\n",
       "Residuals:\n",
       "    Min      1Q  Median      3Q     Max \n",
       "-152.15  -30.27   -4.14   25.75  337.93 \n",
       "\n",
       "Coefficients:\n",
       "            Estimate Std. Error t value Pr(>|t|)    \n",
       "(Intercept)   78.985     25.607   3.085  0.00263 ** \n",
       "SquareFeet   147.920     12.765  11.588  < 2e-16 ***\n",
       "Distance     -15.788      7.586  -2.081  0.03994 *  \n",
       "---\n",
       "Signif. codes:  0 ‘***’ 0.001 ‘**’ 0.01 ‘*’ 0.05 ‘.’ 0.1 ‘ ’ 1\n",
       "\n",
       "Residual standard error: 65.55 on 101 degrees of freedom\n",
       "Multiple R-squared:  0.6574,\tAdjusted R-squared:  0.6506 \n",
       "F-statistic: 96.89 on 2 and 101 DF,  p-value: < 2.2e-16\n"
      ]
     },
     "metadata": {},
     "output_type": "display_data"
    }
   ],
   "source": [
    "# Solution\n",
    "fit <- lm(Price2014 ~ SquareFeet + Distance, data = RailsTrails)\n",
    "summary(fit)"
   ]
  },
  {
   "cell_type": "markdown",
   "id": "8476c34c-1bdf-467d-81c7-dadd68324cd2",
   "metadata": {},
   "source": [
    "*Write your notes here. Double-click to edit.*"
   ]
  },
  {
   "cell_type": "markdown",
   "id": "82029688-5c44-4304-a58f-b31bd7e44225",
   "metadata": {
    "tags": [
     "solution"
    ]
   },
   "source": [
    "*Solution.* $R^2 = 0.6574$."
   ]
  },
  {
   "cell_type": "markdown",
   "id": "7a3037e0-05e5-4878-9983-b097b15a4256",
   "metadata": {},
   "source": [
    "## The adjusted coefficient of determination (adjusted $R^2$) "
   ]
  },
  {
   "cell_type": "markdown",
   "id": "6f8cf3c8-187e-4b48-b11a-209b94889c89",
   "metadata": {},
   "source": [
    "- Adding an additional predictor to a multiple linear regression model can _never_ decrease the percentage of variability explained by that model (assuming we are using the same data)\n",
    "\n",
    "- __But: is the increase in explained variability due to important new information in the new predictor, or is it just due to chance?__\n",
    "\n",
    "- One way to answer this question is to do a $t$-test for the new predictor's coefficient, like we did in the previous lesson\n",
    "\n",
    "- Another less formal option is to look at the __adjusted $R^2$__, denoted by $R_{adj}^2$"
   ]
  },
  {
   "cell_type": "markdown",
   "id": "afcbb121-f6e3-432b-941d-79bd9711ef4b",
   "metadata": {},
   "source": [
    "- The __adjusted coefficient of determination $R_{adj}^2$__ accounts for\n",
    "    \n",
    "    1. the amount of variability explained by the model, __and__\n",
    "    \n",
    "    2. the number of predictors\n",
    "    \n",
    "- It includes a _penalty_ for additional predictors, so an extra predictor has to help _enough_ in order to raise $R_{adj}^2$\n",
    "\n",
    "- $R_{adj}^2$ can go _up or down_ when a new predictor is included\n",
    "\n",
    "- Therefore, $R_{adj}^2$ is a good way to capture models with different numbers of predictors\n",
    "    - It's most useful to quickly compare lots of models"
   ]
  },
  {
   "cell_type": "markdown",
   "id": "a352f092-45b4-4f1c-915b-9c6146ddf218",
   "metadata": {},
   "source": [
    "- Formula:\n",
    "    $$R_{adj}^2 = 1 - \\frac{\\hat{\\sigma}_{\\varepsilon}^2}{s_{Y}^2} = 1 - \\frac{ \\mathit{SSE} \\,/\\, (n - (k + 1)) }{ \\mathit{SSTotal} \\,/\\, (n - 1) } $$\n",
    "    \n",
    "    - $s_{Y}^2$ is the sample variance of $Y$"
   ]
  },
  {
   "cell_type": "markdown",
   "id": "d95d72d7-b0cf-4935-bb99-773a1b32e143",
   "metadata": {},
   "source": [
    "### Example 2"
   ]
  },
  {
   "cell_type": "markdown",
   "id": "2b6b362e-ae3d-4176-a384-2fa3e45f5969",
   "metadata": {},
   "source": [
    "Continuing with Example 1..."
   ]
  },
  {
   "cell_type": "markdown",
   "id": "c87c17ab-618a-482a-96c9-7fc12e2bb708",
   "metadata": {},
   "source": [
    "#### a.\n",
    "For our two predictor model of house prices, what is $R^2_{adj}$? Look for \"Adjusted R-squared\" in the Example 1 output."
   ]
  },
  {
   "cell_type": "markdown",
   "id": "119ff7bb-dfab-45b5-88ed-03b5ff128919",
   "metadata": {},
   "source": [
    "*Write your answer here. Double-click to edit.*"
   ]
  },
  {
   "cell_type": "markdown",
   "id": "2edc2931-54eb-44f2-84e9-41908e2840c0",
   "metadata": {
    "tags": [
     "solution"
    ]
   },
   "source": [
    "*Solution.* $R^2_{adj} = 0.6506$."
   ]
  },
  {
   "cell_type": "markdown",
   "id": "61fdd98e-087f-4dea-9e9f-e2495e49e062",
   "metadata": {},
   "source": [
    "#### b.\n",
    "What is $R_{adj}^2$ for the simple linear regression model using only $\\mathit{SquareFeet}$ as a predictor of $\\mathit{Price2014}$?"
   ]
  },
  {
   "cell_type": "markdown",
   "id": "7c01669d-c8a2-4b6b-817a-078f6f0b0b2f",
   "metadata": {},
   "source": [
    "*Write your answer here. Double-click to edit.*"
   ]
  },
  {
   "cell_type": "markdown",
   "id": "f2975005-81d5-48ff-bbf1-b97251f8a468",
   "metadata": {
    "tags": [
     "solution"
    ]
   },
   "source": [
    "*Solution.* $R_{adj}^2 = 0.6392$."
   ]
  },
  {
   "cell_type": "markdown",
   "id": "db0e3d28-536f-47cb-8eb0-c8832b7ccca3",
   "metadata": {},
   "source": [
    "#### c.\n",
    "Based on your answers above, which model seems to be better?"
   ]
  },
  {
   "cell_type": "markdown",
   "id": "06531bca-2403-4511-a771-3b8c8fd00c46",
   "metadata": {},
   "source": [
    "*Write your answer here. Double-click to edit.*"
   ]
  },
  {
   "cell_type": "markdown",
   "id": "0070802d-4eb1-465c-a61e-78cc587a915c",
   "metadata": {
    "tags": [
     "solution"
    ]
   },
   "source": [
    "*Solution.* The model with both predictors seems to better, since it has a larger $R_{adj}^2$. "
   ]
  }
 ],
 "metadata": {
  "kernelspec": {
   "display_name": "R",
   "language": "R",
   "name": "ir"
  },
  "language_info": {
   "codemirror_mode": "r",
   "file_extension": ".r",
   "mimetype": "text/x-r-source",
   "name": "R",
   "pygments_lexer": "r",
   "version": "4.2.2"
  }
 },
 "nbformat": 4,
 "nbformat_minor": 5
}
